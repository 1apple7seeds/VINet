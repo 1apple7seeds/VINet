{
 "cells": [
  {
   "cell_type": "code",
   "execution_count": 21,
   "metadata": {
    "ExecuteTime": {
     "end_time": "2018-03-31T11:23:31.645953Z",
     "start_time": "2018-03-31T11:23:31.635500Z"
    }
   },
   "outputs": [],
   "source": [
    "import csv\n",
    "\n",
    "trajectory_abs = []  #abosolute camera pose\n",
    "with open('/notebooks/data/euroc/V1_01_easy/vicon0/sampled_relative.csv') as csvfile:\n",
    "    spamreader = csv.reader(csvfile, delimiter=',', quotechar='|')\n",
    "    for row in spamreader:\n",
    "        parsed = [int(row[0]), float(row[1]), float(row[2]), float(row[3]), \n",
    "                  float(row[4]), float(row[5]), float(row[6]), float(row[7])]\n",
    "        trajectory_abs.append(parsed)"
   ]
  },
  {
   "cell_type": "code",
   "execution_count": 22,
   "metadata": {
    "ExecuteTime": {
     "end_time": "2018-03-31T11:23:33.098952Z",
     "start_time": "2018-03-31T11:23:33.094341Z"
    }
   },
   "outputs": [
    {
     "name": "stdout",
     "output_type": "stream",
     "text": [
      "[1403715273265228032, 0.7866594216382278, 2.1766926109527382, 1.0619348147963852, 0.9932712318812144, -0.008876671656002066, 0.022388759277128193, 0.1132793364895697]\n"
     ]
    }
   ],
   "source": [
    "print(trajectory_abs[0])"
   ]
  },
  {
   "cell_type": "code",
   "execution_count": null,
   "metadata": {},
   "outputs": [],
   "source": []
  }
 ],
 "metadata": {
  "kernelspec": {
   "display_name": "Python 2",
   "language": "python",
   "name": "python2"
  },
  "language_info": {
   "codemirror_mode": {
    "name": "ipython",
    "version": 2
   },
   "file_extension": ".py",
   "mimetype": "text/x-python",
   "name": "python",
   "nbconvert_exporter": "python",
   "pygments_lexer": "ipython2",
   "version": "2.7.12"
  },
  "varInspector": {
   "cols": {
    "lenName": 16,
    "lenType": 16,
    "lenVar": 40
   },
   "kernels_config": {
    "python": {
     "delete_cmd_postfix": "",
     "delete_cmd_prefix": "del ",
     "library": "var_list.py",
     "varRefreshCmd": "print(var_dic_list())"
    },
    "r": {
     "delete_cmd_postfix": ") ",
     "delete_cmd_prefix": "rm(",
     "library": "var_list.r",
     "varRefreshCmd": "cat(var_dic_list()) "
    }
   },
   "types_to_exclude": [
    "module",
    "function",
    "builtin_function_or_method",
    "instance",
    "_Feature"
   ],
   "window_display": false
  }
 },
 "nbformat": 4,
 "nbformat_minor": 2
}
